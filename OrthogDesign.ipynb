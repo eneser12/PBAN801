{
  "nbformat": 4,
  "nbformat_minor": 0,
  "metadata": {
    "colab": {
      "provenance": [],
      "authorship_tag": "ABX9TyOj7Fddkch0Lt5EDPrpxOp6",
      "include_colab_link": true
    },
    "kernelspec": {
      "name": "ir",
      "display_name": "R"
    },
    "language_info": {
      "name": "R"
    }
  },
  "cells": [
    {
      "cell_type": "markdown",
      "metadata": {
        "id": "view-in-github",
        "colab_type": "text"
      },
      "source": [
        "<a href=\"https://colab.research.google.com/github/eneser12/PBAN801/blob/main/OrthogDesign.ipynb\" target=\"_parent\"><img src=\"https://colab.research.google.com/assets/colab-badge.svg\" alt=\"Open In Colab\"/></a>"
      ]
    },
    {
      "cell_type": "code",
      "execution_count": null,
      "metadata": {
        "colab": {
          "base_uri": "https://localhost:8080/",
          "height": 578
        },
        "id": "vYNrciXkWlL6",
        "outputId": "299e0d6b-46c6-4b07-d8bb-88d357b04c96"
      },
      "outputs": [
        {
          "output_type": "stream",
          "name": "stderr",
          "text": [
            "Installing package into ‘/usr/local/lib/R/site-library’\n",
            "(as ‘lib’ is unspecified)\n",
            "\n",
            "also installing the dependencies ‘modeltools’, ‘DEoptimR’, ‘mclust’, ‘flexmix’, ‘prabclus’, ‘diptest’, ‘robustbase’, ‘kernlab’, ‘gridExtra’, ‘AlgDesign’, ‘fpc’, ‘ggfortify’\n",
            "\n",
            "\n",
            "Installing package into ‘/usr/local/lib/R/site-library’\n",
            "(as ‘lib’ is unspecified)\n",
            "\n",
            "also installing the dependencies ‘zoo’, ‘rbibutils’, ‘lmtest’, ‘gmp’, ‘polynom’, ‘sets’, ‘mathjaxr’, ‘Rdpack’, ‘estimability’, ‘Rcpp’, ‘conf.design’, ‘vcd’, ‘combinat’, ‘numbers’, ‘partitions’, ‘rsm’, ‘lhs’, ‘DiceDesign’, ‘DoE.base’, ‘sfsmisc’, ‘scatterplot3d’, ‘igraph’, ‘FrF2.catlg128’, ‘BsMD’, ‘DoE.wrapper’\n",
            "\n",
            "\n",
            "Warning message in install.packages(i, dependencies = T):\n",
            "“installation of package ‘gmp’ had non-zero exit status”\n",
            "Warning message in install.packages(i, dependencies = T):\n",
            "“installation of package ‘igraph’ had non-zero exit status”\n",
            "Warning message in install.packages(i, dependencies = T):\n",
            "“installation of package ‘partitions’ had non-zero exit status”\n",
            "Warning message in install.packages(i, dependencies = T):\n",
            "“installation of package ‘DoE.base’ had non-zero exit status”\n",
            "Warning message in install.packages(i, dependencies = T):\n",
            "“installation of package ‘FrF2’ had non-zero exit status”\n",
            "Warning message in install.packages(i, dependencies = T):\n",
            "“installation of package ‘FrF2.catlg128’ had non-zero exit status”\n",
            "Warning message in install.packages(i, dependencies = T):\n",
            "“installation of package ‘DoE.wrapper’ had non-zero exit status”\n"
          ]
        },
        {
          "output_type": "error",
          "ename": "ERROR",
          "evalue": "Error in library(i, character.only = TRUE): there is no package called ‘FrF2’\n",
          "traceback": [
            "Error in library(i, character.only = TRUE): there is no package called ‘FrF2’\nTraceback:\n",
            "1. library(i, character.only = TRUE)"
          ]
        }
      ],
      "source": [
        "libs <- c(\"conjoint\", \"FrF2\", \"tidyverse\", \"shiny\")\n",
        "for (i in libs){\n",
        "  if( !is.element(i, .packages(all.available = TRUE)) ) {\n",
        "    install.packages(i, dependencies = T)\n",
        "  }\n",
        "  library(i,character.only = TRUE)\n",
        "}\n",
        "lapply(libs, require, character.only = TRUE)\n",
        "\n",
        "\n",
        "rm(list=ls())\n",
        "\n",
        "getwd()"
      ]
    },
    {
      "cell_type": "code",
      "source": [
        "\n",
        "#----------EXAMPLE 1----------\n",
        "#-----------------------------\n",
        "#-----------------------------\n",
        "# how many attributes?\n",
        "nofAttrib = 4\n",
        "# Define levels and numeric values for each attribute\n",
        "screenSize_levels <- c(\"55\", \"60\", \"65\")\n",
        "resolution_levels <- c(\"4K\", \"8K\")\n",
        "isCurved_levels <- c(\"Curved\", \"Flat\")\n",
        "price_levels <- c(\"1000\", \"1200\", \"1400\", \"1600\")\n",
        "\n",
        "# Create set of profiles\n",
        "profiles <- expand.grid(screenSize = screenSize_levels,\n",
        "                        resolution = resolution_levels,\n",
        "                        isCurved = isCurved_levels,\n",
        "                        price = price_levels)\n",
        "profiles"
      ],
      "metadata": {
        "colab": {
          "base_uri": "https://localhost:8080/",
          "height": 1000
        },
        "id": "Pqm7mUqqXSTt",
        "outputId": "406154d3-d230-4e64-f305-c4fec5e80277"
      },
      "execution_count": null,
      "outputs": [
        {
          "output_type": "display_data",
          "data": {
            "text/html": [
              "<table class=\"dataframe\">\n",
              "<caption>A data.frame: 48 × 4</caption>\n",
              "<thead>\n",
              "\t<tr><th scope=col>screenSize</th><th scope=col>resolution</th><th scope=col>isCurved</th><th scope=col>price</th></tr>\n",
              "\t<tr><th scope=col>&lt;fct&gt;</th><th scope=col>&lt;fct&gt;</th><th scope=col>&lt;fct&gt;</th><th scope=col>&lt;fct&gt;</th></tr>\n",
              "</thead>\n",
              "<tbody>\n",
              "\t<tr><td>55</td><td>4K</td><td>Curved</td><td>1000</td></tr>\n",
              "\t<tr><td>60</td><td>4K</td><td>Curved</td><td>1000</td></tr>\n",
              "\t<tr><td>65</td><td>4K</td><td>Curved</td><td>1000</td></tr>\n",
              "\t<tr><td>55</td><td>8K</td><td>Curved</td><td>1000</td></tr>\n",
              "\t<tr><td>60</td><td>8K</td><td>Curved</td><td>1000</td></tr>\n",
              "\t<tr><td>65</td><td>8K</td><td>Curved</td><td>1000</td></tr>\n",
              "\t<tr><td>55</td><td>4K</td><td>Flat  </td><td>1000</td></tr>\n",
              "\t<tr><td>60</td><td>4K</td><td>Flat  </td><td>1000</td></tr>\n",
              "\t<tr><td>65</td><td>4K</td><td>Flat  </td><td>1000</td></tr>\n",
              "\t<tr><td>55</td><td>8K</td><td>Flat  </td><td>1000</td></tr>\n",
              "\t<tr><td>60</td><td>8K</td><td>Flat  </td><td>1000</td></tr>\n",
              "\t<tr><td>65</td><td>8K</td><td>Flat  </td><td>1000</td></tr>\n",
              "\t<tr><td>55</td><td>4K</td><td>Curved</td><td>1200</td></tr>\n",
              "\t<tr><td>60</td><td>4K</td><td>Curved</td><td>1200</td></tr>\n",
              "\t<tr><td>65</td><td>4K</td><td>Curved</td><td>1200</td></tr>\n",
              "\t<tr><td>55</td><td>8K</td><td>Curved</td><td>1200</td></tr>\n",
              "\t<tr><td>60</td><td>8K</td><td>Curved</td><td>1200</td></tr>\n",
              "\t<tr><td>65</td><td>8K</td><td>Curved</td><td>1200</td></tr>\n",
              "\t<tr><td>55</td><td>4K</td><td>Flat  </td><td>1200</td></tr>\n",
              "\t<tr><td>60</td><td>4K</td><td>Flat  </td><td>1200</td></tr>\n",
              "\t<tr><td>65</td><td>4K</td><td>Flat  </td><td>1200</td></tr>\n",
              "\t<tr><td>55</td><td>8K</td><td>Flat  </td><td>1200</td></tr>\n",
              "\t<tr><td>60</td><td>8K</td><td>Flat  </td><td>1200</td></tr>\n",
              "\t<tr><td>65</td><td>8K</td><td>Flat  </td><td>1200</td></tr>\n",
              "\t<tr><td>55</td><td>4K</td><td>Curved</td><td>1400</td></tr>\n",
              "\t<tr><td>60</td><td>4K</td><td>Curved</td><td>1400</td></tr>\n",
              "\t<tr><td>65</td><td>4K</td><td>Curved</td><td>1400</td></tr>\n",
              "\t<tr><td>55</td><td>8K</td><td>Curved</td><td>1400</td></tr>\n",
              "\t<tr><td>60</td><td>8K</td><td>Curved</td><td>1400</td></tr>\n",
              "\t<tr><td>65</td><td>8K</td><td>Curved</td><td>1400</td></tr>\n",
              "\t<tr><td>55</td><td>4K</td><td>Flat  </td><td>1400</td></tr>\n",
              "\t<tr><td>60</td><td>4K</td><td>Flat  </td><td>1400</td></tr>\n",
              "\t<tr><td>65</td><td>4K</td><td>Flat  </td><td>1400</td></tr>\n",
              "\t<tr><td>55</td><td>8K</td><td>Flat  </td><td>1400</td></tr>\n",
              "\t<tr><td>60</td><td>8K</td><td>Flat  </td><td>1400</td></tr>\n",
              "\t<tr><td>65</td><td>8K</td><td>Flat  </td><td>1400</td></tr>\n",
              "\t<tr><td>55</td><td>4K</td><td>Curved</td><td>1600</td></tr>\n",
              "\t<tr><td>60</td><td>4K</td><td>Curved</td><td>1600</td></tr>\n",
              "\t<tr><td>65</td><td>4K</td><td>Curved</td><td>1600</td></tr>\n",
              "\t<tr><td>55</td><td>8K</td><td>Curved</td><td>1600</td></tr>\n",
              "\t<tr><td>60</td><td>8K</td><td>Curved</td><td>1600</td></tr>\n",
              "\t<tr><td>65</td><td>8K</td><td>Curved</td><td>1600</td></tr>\n",
              "\t<tr><td>55</td><td>4K</td><td>Flat  </td><td>1600</td></tr>\n",
              "\t<tr><td>60</td><td>4K</td><td>Flat  </td><td>1600</td></tr>\n",
              "\t<tr><td>65</td><td>4K</td><td>Flat  </td><td>1600</td></tr>\n",
              "\t<tr><td>55</td><td>8K</td><td>Flat  </td><td>1600</td></tr>\n",
              "\t<tr><td>60</td><td>8K</td><td>Flat  </td><td>1600</td></tr>\n",
              "\t<tr><td>65</td><td>8K</td><td>Flat  </td><td>1600</td></tr>\n",
              "</tbody>\n",
              "</table>\n"
            ],
            "text/markdown": "\nA data.frame: 48 × 4\n\n| screenSize &lt;fct&gt; | resolution &lt;fct&gt; | isCurved &lt;fct&gt; | price &lt;fct&gt; |\n|---|---|---|---|\n| 55 | 4K | Curved | 1000 |\n| 60 | 4K | Curved | 1000 |\n| 65 | 4K | Curved | 1000 |\n| 55 | 8K | Curved | 1000 |\n| 60 | 8K | Curved | 1000 |\n| 65 | 8K | Curved | 1000 |\n| 55 | 4K | Flat   | 1000 |\n| 60 | 4K | Flat   | 1000 |\n| 65 | 4K | Flat   | 1000 |\n| 55 | 8K | Flat   | 1000 |\n| 60 | 8K | Flat   | 1000 |\n| 65 | 8K | Flat   | 1000 |\n| 55 | 4K | Curved | 1200 |\n| 60 | 4K | Curved | 1200 |\n| 65 | 4K | Curved | 1200 |\n| 55 | 8K | Curved | 1200 |\n| 60 | 8K | Curved | 1200 |\n| 65 | 8K | Curved | 1200 |\n| 55 | 4K | Flat   | 1200 |\n| 60 | 4K | Flat   | 1200 |\n| 65 | 4K | Flat   | 1200 |\n| 55 | 8K | Flat   | 1200 |\n| 60 | 8K | Flat   | 1200 |\n| 65 | 8K | Flat   | 1200 |\n| 55 | 4K | Curved | 1400 |\n| 60 | 4K | Curved | 1400 |\n| 65 | 4K | Curved | 1400 |\n| 55 | 8K | Curved | 1400 |\n| 60 | 8K | Curved | 1400 |\n| 65 | 8K | Curved | 1400 |\n| 55 | 4K | Flat   | 1400 |\n| 60 | 4K | Flat   | 1400 |\n| 65 | 4K | Flat   | 1400 |\n| 55 | 8K | Flat   | 1400 |\n| 60 | 8K | Flat   | 1400 |\n| 65 | 8K | Flat   | 1400 |\n| 55 | 4K | Curved | 1600 |\n| 60 | 4K | Curved | 1600 |\n| 65 | 4K | Curved | 1600 |\n| 55 | 8K | Curved | 1600 |\n| 60 | 8K | Curved | 1600 |\n| 65 | 8K | Curved | 1600 |\n| 55 | 4K | Flat   | 1600 |\n| 60 | 4K | Flat   | 1600 |\n| 65 | 4K | Flat   | 1600 |\n| 55 | 8K | Flat   | 1600 |\n| 60 | 8K | Flat   | 1600 |\n| 65 | 8K | Flat   | 1600 |\n\n",
            "text/latex": "A data.frame: 48 × 4\n\\begin{tabular}{llll}\n screenSize & resolution & isCurved & price\\\\\n <fct> & <fct> & <fct> & <fct>\\\\\n\\hline\n\t 55 & 4K & Curved & 1000\\\\\n\t 60 & 4K & Curved & 1000\\\\\n\t 65 & 4K & Curved & 1000\\\\\n\t 55 & 8K & Curved & 1000\\\\\n\t 60 & 8K & Curved & 1000\\\\\n\t 65 & 8K & Curved & 1000\\\\\n\t 55 & 4K & Flat   & 1000\\\\\n\t 60 & 4K & Flat   & 1000\\\\\n\t 65 & 4K & Flat   & 1000\\\\\n\t 55 & 8K & Flat   & 1000\\\\\n\t 60 & 8K & Flat   & 1000\\\\\n\t 65 & 8K & Flat   & 1000\\\\\n\t 55 & 4K & Curved & 1200\\\\\n\t 60 & 4K & Curved & 1200\\\\\n\t 65 & 4K & Curved & 1200\\\\\n\t 55 & 8K & Curved & 1200\\\\\n\t 60 & 8K & Curved & 1200\\\\\n\t 65 & 8K & Curved & 1200\\\\\n\t 55 & 4K & Flat   & 1200\\\\\n\t 60 & 4K & Flat   & 1200\\\\\n\t 65 & 4K & Flat   & 1200\\\\\n\t 55 & 8K & Flat   & 1200\\\\\n\t 60 & 8K & Flat   & 1200\\\\\n\t 65 & 8K & Flat   & 1200\\\\\n\t 55 & 4K & Curved & 1400\\\\\n\t 60 & 4K & Curved & 1400\\\\\n\t 65 & 4K & Curved & 1400\\\\\n\t 55 & 8K & Curved & 1400\\\\\n\t 60 & 8K & Curved & 1400\\\\\n\t 65 & 8K & Curved & 1400\\\\\n\t 55 & 4K & Flat   & 1400\\\\\n\t 60 & 4K & Flat   & 1400\\\\\n\t 65 & 4K & Flat   & 1400\\\\\n\t 55 & 8K & Flat   & 1400\\\\\n\t 60 & 8K & Flat   & 1400\\\\\n\t 65 & 8K & Flat   & 1400\\\\\n\t 55 & 4K & Curved & 1600\\\\\n\t 60 & 4K & Curved & 1600\\\\\n\t 65 & 4K & Curved & 1600\\\\\n\t 55 & 8K & Curved & 1600\\\\\n\t 60 & 8K & Curved & 1600\\\\\n\t 65 & 8K & Curved & 1600\\\\\n\t 55 & 4K & Flat   & 1600\\\\\n\t 60 & 4K & Flat   & 1600\\\\\n\t 65 & 4K & Flat   & 1600\\\\\n\t 55 & 8K & Flat   & 1600\\\\\n\t 60 & 8K & Flat   & 1600\\\\\n\t 65 & 8K & Flat   & 1600\\\\\n\\end{tabular}\n",
            "text/plain": [
              "   screenSize resolution isCurved price\n",
              "1  55         4K         Curved   1000 \n",
              "2  60         4K         Curved   1000 \n",
              "3  65         4K         Curved   1000 \n",
              "4  55         8K         Curved   1000 \n",
              "5  60         8K         Curved   1000 \n",
              "6  65         8K         Curved   1000 \n",
              "7  55         4K         Flat     1000 \n",
              "8  60         4K         Flat     1000 \n",
              "9  65         4K         Flat     1000 \n",
              "10 55         8K         Flat     1000 \n",
              "11 60         8K         Flat     1000 \n",
              "12 65         8K         Flat     1000 \n",
              "13 55         4K         Curved   1200 \n",
              "14 60         4K         Curved   1200 \n",
              "15 65         4K         Curved   1200 \n",
              "16 55         8K         Curved   1200 \n",
              "17 60         8K         Curved   1200 \n",
              "18 65         8K         Curved   1200 \n",
              "19 55         4K         Flat     1200 \n",
              "20 60         4K         Flat     1200 \n",
              "21 65         4K         Flat     1200 \n",
              "22 55         8K         Flat     1200 \n",
              "23 60         8K         Flat     1200 \n",
              "24 65         8K         Flat     1200 \n",
              "25 55         4K         Curved   1400 \n",
              "26 60         4K         Curved   1400 \n",
              "27 65         4K         Curved   1400 \n",
              "28 55         8K         Curved   1400 \n",
              "29 60         8K         Curved   1400 \n",
              "30 65         8K         Curved   1400 \n",
              "31 55         4K         Flat     1400 \n",
              "32 60         4K         Flat     1400 \n",
              "33 65         4K         Flat     1400 \n",
              "34 55         8K         Flat     1400 \n",
              "35 60         8K         Flat     1400 \n",
              "36 65         8K         Flat     1400 \n",
              "37 55         4K         Curved   1600 \n",
              "38 60         4K         Curved   1600 \n",
              "39 65         4K         Curved   1600 \n",
              "40 55         8K         Curved   1600 \n",
              "41 60         8K         Curved   1600 \n",
              "42 65         8K         Curved   1600 \n",
              "43 55         4K         Flat     1600 \n",
              "44 60         4K         Flat     1600 \n",
              "45 65         4K         Flat     1600 \n",
              "46 55         8K         Flat     1600 \n",
              "47 60         8K         Flat     1600 \n",
              "48 65         8K         Flat     1600 "
            ]
          },
          "metadata": {}
        }
      ]
    },
    {
      "cell_type": "code",
      "source": [
        "# Generate 1/4 fractional design\n",
        "head(profiles)\n",
        "\n",
        "selectedProfiles = row.names(caFactorialDesign(data=profiles[,1:nofAttrib],type=\"fractional\"))\n",
        "selectedProfiles = as.numeric(selectedProfiles)\n",
        "profiles[selectedProfiles,]\n"
      ],
      "metadata": {
        "colab": {
          "base_uri": "https://localhost:8080/",
          "height": 775
        },
        "id": "Bqkgj2A5Yawn",
        "outputId": "52489683-8376-4b00-96a5-2f9eefdb3092"
      },
      "execution_count": null,
      "outputs": [
        {
          "output_type": "display_data",
          "data": {
            "text/html": [
              "<table class=\"dataframe\">\n",
              "<caption>A data.frame: 6 × 4</caption>\n",
              "<thead>\n",
              "\t<tr><th></th><th scope=col>screenSize</th><th scope=col>resolution</th><th scope=col>isCurved</th><th scope=col>price</th></tr>\n",
              "\t<tr><th></th><th scope=col>&lt;fct&gt;</th><th scope=col>&lt;fct&gt;</th><th scope=col>&lt;fct&gt;</th><th scope=col>&lt;fct&gt;</th></tr>\n",
              "</thead>\n",
              "<tbody>\n",
              "\t<tr><th scope=row>1</th><td>55</td><td>4K</td><td>Curved</td><td>1000</td></tr>\n",
              "\t<tr><th scope=row>2</th><td>60</td><td>4K</td><td>Curved</td><td>1000</td></tr>\n",
              "\t<tr><th scope=row>3</th><td>65</td><td>4K</td><td>Curved</td><td>1000</td></tr>\n",
              "\t<tr><th scope=row>4</th><td>55</td><td>8K</td><td>Curved</td><td>1000</td></tr>\n",
              "\t<tr><th scope=row>5</th><td>60</td><td>8K</td><td>Curved</td><td>1000</td></tr>\n",
              "\t<tr><th scope=row>6</th><td>65</td><td>8K</td><td>Curved</td><td>1000</td></tr>\n",
              "</tbody>\n",
              "</table>\n"
            ],
            "text/markdown": "\nA data.frame: 6 × 4\n\n| <!--/--> | screenSize &lt;fct&gt; | resolution &lt;fct&gt; | isCurved &lt;fct&gt; | price &lt;fct&gt; |\n|---|---|---|---|---|\n| 1 | 55 | 4K | Curved | 1000 |\n| 2 | 60 | 4K | Curved | 1000 |\n| 3 | 65 | 4K | Curved | 1000 |\n| 4 | 55 | 8K | Curved | 1000 |\n| 5 | 60 | 8K | Curved | 1000 |\n| 6 | 65 | 8K | Curved | 1000 |\n\n",
            "text/latex": "A data.frame: 6 × 4\n\\begin{tabular}{r|llll}\n  & screenSize & resolution & isCurved & price\\\\\n  & <fct> & <fct> & <fct> & <fct>\\\\\n\\hline\n\t1 & 55 & 4K & Curved & 1000\\\\\n\t2 & 60 & 4K & Curved & 1000\\\\\n\t3 & 65 & 4K & Curved & 1000\\\\\n\t4 & 55 & 8K & Curved & 1000\\\\\n\t5 & 60 & 8K & Curved & 1000\\\\\n\t6 & 65 & 8K & Curved & 1000\\\\\n\\end{tabular}\n",
            "text/plain": [
              "  screenSize resolution isCurved price\n",
              "1 55         4K         Curved   1000 \n",
              "2 60         4K         Curved   1000 \n",
              "3 65         4K         Curved   1000 \n",
              "4 55         8K         Curved   1000 \n",
              "5 60         8K         Curved   1000 \n",
              "6 65         8K         Curved   1000 "
            ]
          },
          "metadata": {}
        },
        {
          "output_type": "display_data",
          "data": {
            "text/html": [
              "<table class=\"dataframe\">\n",
              "<caption>A data.frame: 13 × 4</caption>\n",
              "<thead>\n",
              "\t<tr><th></th><th scope=col>screenSize</th><th scope=col>resolution</th><th scope=col>isCurved</th><th scope=col>price</th></tr>\n",
              "\t<tr><th></th><th scope=col>&lt;fct&gt;</th><th scope=col>&lt;fct&gt;</th><th scope=col>&lt;fct&gt;</th><th scope=col>&lt;fct&gt;</th></tr>\n",
              "</thead>\n",
              "<tbody>\n",
              "\t<tr><th scope=row>2</th><td>60</td><td>4K</td><td>Curved</td><td>1000</td></tr>\n",
              "\t<tr><th scope=row>7</th><td>55</td><td>4K</td><td>Flat  </td><td>1000</td></tr>\n",
              "\t<tr><th scope=row>12</th><td>65</td><td>8K</td><td>Flat  </td><td>1000</td></tr>\n",
              "\t<tr><th scope=row>15</th><td>65</td><td>4K</td><td>Curved</td><td>1200</td></tr>\n",
              "\t<tr><th scope=row>16</th><td>55</td><td>8K</td><td>Curved</td><td>1200</td></tr>\n",
              "\t<tr><th scope=row>23</th><td>60</td><td>8K</td><td>Flat  </td><td>1200</td></tr>\n",
              "\t<tr><th scope=row>25</th><td>55</td><td>4K</td><td>Curved</td><td>1400</td></tr>\n",
              "\t<tr><th scope=row>30</th><td>65</td><td>8K</td><td>Curved</td><td>1400</td></tr>\n",
              "\t<tr><th scope=row>32</th><td>60</td><td>4K</td><td>Flat  </td><td>1400</td></tr>\n",
              "\t<tr><th scope=row>34</th><td>55</td><td>8K</td><td>Flat  </td><td>1400</td></tr>\n",
              "\t<tr><th scope=row>40</th><td>55</td><td>8K</td><td>Curved</td><td>1600</td></tr>\n",
              "\t<tr><th scope=row>41</th><td>60</td><td>8K</td><td>Curved</td><td>1600</td></tr>\n",
              "\t<tr><th scope=row>45</th><td>65</td><td>4K</td><td>Flat  </td><td>1600</td></tr>\n",
              "</tbody>\n",
              "</table>\n"
            ],
            "text/markdown": "\nA data.frame: 13 × 4\n\n| <!--/--> | screenSize &lt;fct&gt; | resolution &lt;fct&gt; | isCurved &lt;fct&gt; | price &lt;fct&gt; |\n|---|---|---|---|---|\n| 2 | 60 | 4K | Curved | 1000 |\n| 7 | 55 | 4K | Flat   | 1000 |\n| 12 | 65 | 8K | Flat   | 1000 |\n| 15 | 65 | 4K | Curved | 1200 |\n| 16 | 55 | 8K | Curved | 1200 |\n| 23 | 60 | 8K | Flat   | 1200 |\n| 25 | 55 | 4K | Curved | 1400 |\n| 30 | 65 | 8K | Curved | 1400 |\n| 32 | 60 | 4K | Flat   | 1400 |\n| 34 | 55 | 8K | Flat   | 1400 |\n| 40 | 55 | 8K | Curved | 1600 |\n| 41 | 60 | 8K | Curved | 1600 |\n| 45 | 65 | 4K | Flat   | 1600 |\n\n",
            "text/latex": "A data.frame: 13 × 4\n\\begin{tabular}{r|llll}\n  & screenSize & resolution & isCurved & price\\\\\n  & <fct> & <fct> & <fct> & <fct>\\\\\n\\hline\n\t2 & 60 & 4K & Curved & 1000\\\\\n\t7 & 55 & 4K & Flat   & 1000\\\\\n\t12 & 65 & 8K & Flat   & 1000\\\\\n\t15 & 65 & 4K & Curved & 1200\\\\\n\t16 & 55 & 8K & Curved & 1200\\\\\n\t23 & 60 & 8K & Flat   & 1200\\\\\n\t25 & 55 & 4K & Curved & 1400\\\\\n\t30 & 65 & 8K & Curved & 1400\\\\\n\t32 & 60 & 4K & Flat   & 1400\\\\\n\t34 & 55 & 8K & Flat   & 1400\\\\\n\t40 & 55 & 8K & Curved & 1600\\\\\n\t41 & 60 & 8K & Curved & 1600\\\\\n\t45 & 65 & 4K & Flat   & 1600\\\\\n\\end{tabular}\n",
            "text/plain": [
              "   screenSize resolution isCurved price\n",
              "2  60         4K         Curved   1000 \n",
              "7  55         4K         Flat     1000 \n",
              "12 65         8K         Flat     1000 \n",
              "15 65         4K         Curved   1200 \n",
              "16 55         8K         Curved   1200 \n",
              "23 60         8K         Flat     1200 \n",
              "25 55         4K         Curved   1400 \n",
              "30 65         8K         Curved   1400 \n",
              "32 60         4K         Flat     1400 \n",
              "34 55         8K         Flat     1400 \n",
              "40 55         8K         Curved   1600 \n",
              "41 60         8K         Curved   1600 \n",
              "45 65         4K         Flat     1600 "
            ]
          },
          "metadata": {}
        }
      ]
    },
    {
      "cell_type": "code",
      "source": [
        "\n",
        "#----------EXAMPLE 2----------\n",
        "#-----------------------------\n",
        "#-----------------------------\n",
        "# how many attributes?\n",
        "nofAttrib = 5\n",
        "# Define levels and numeric values for each attribute\n",
        "noise_levels <- c(\"Very low\", \"Low\", \"Medium\", \"High\")\n",
        "reliability_levels <- c(\"1%\", \"5%\", \"15%\")\n",
        "price_levels <- c(300, 400, 500, 700)\n",
        "strength_levels <- c(\"adequate\", \"strong\")\n",
        "funny_levels <- c(\"funny\", \"serious\")\n",
        "\n",
        "# Create set of profiles\n",
        "profiles <- expand.grid(noise = noise_levels,\n",
        "                        reliability = reliability_levels,\n",
        "                        price = price_levels,\n",
        "                        strength = strength_levels,\n",
        "                        funny = funny_levels)\n",
        "paste0(\"A total of \", nrow(profiles), \" combinations exist\")"
      ],
      "metadata": {
        "colab": {
          "base_uri": "https://localhost:8080/",
          "height": 34
        },
        "id": "XI72c-AiYz9e",
        "outputId": "68a96cf5-d8a5-4587-a29d-bab262d345b5"
      },
      "execution_count": null,
      "outputs": [
        {
          "output_type": "display_data",
          "data": {
            "text/html": [
              "'A total of 192 combinations exist'"
            ],
            "text/markdown": "'A total of 192 combinations exist'",
            "text/latex": "'A total of 192 combinations exist'",
            "text/plain": [
              "[1] \"A total of 192 combinations exist\""
            ]
          },
          "metadata": {}
        }
      ]
    },
    {
      "cell_type": "code",
      "source": [
        "# Generate 1/4 fractional design\n",
        "head(profiles)\n",
        "selectedProfiles = row.names(caFactorialDesign(data=profiles[,1:nofAttrib],type=\"fractional\"))\n",
        "selectedProfiles = as.numeric(selectedProfiles)\n",
        "profiles[selectedProfiles,]\n",
        "paste0(nrow(profiles[selectedProfiles,]), \" products are selected\")\n"
      ],
      "metadata": {
        "colab": {
          "base_uri": "https://localhost:8080/",
          "height": 823
        },
        "id": "xIslE-ZeZLRy",
        "outputId": "6575d327-e101-495f-af35-789ec4b215c1"
      },
      "execution_count": null,
      "outputs": [
        {
          "output_type": "display_data",
          "data": {
            "text/html": [
              "<table class=\"dataframe\">\n",
              "<caption>A data.frame: 6 × 5</caption>\n",
              "<thead>\n",
              "\t<tr><th></th><th scope=col>noise</th><th scope=col>reliability</th><th scope=col>price</th><th scope=col>strength</th><th scope=col>funny</th></tr>\n",
              "\t<tr><th></th><th scope=col>&lt;fct&gt;</th><th scope=col>&lt;fct&gt;</th><th scope=col>&lt;dbl&gt;</th><th scope=col>&lt;fct&gt;</th><th scope=col>&lt;fct&gt;</th></tr>\n",
              "</thead>\n",
              "<tbody>\n",
              "\t<tr><th scope=row>1</th><td>Very low</td><td>1%</td><td>300</td><td>adequate</td><td>funny</td></tr>\n",
              "\t<tr><th scope=row>2</th><td>Low     </td><td>1%</td><td>300</td><td>adequate</td><td>funny</td></tr>\n",
              "\t<tr><th scope=row>3</th><td>Medium  </td><td>1%</td><td>300</td><td>adequate</td><td>funny</td></tr>\n",
              "\t<tr><th scope=row>4</th><td>High    </td><td>1%</td><td>300</td><td>adequate</td><td>funny</td></tr>\n",
              "\t<tr><th scope=row>5</th><td>Very low</td><td>5%</td><td>300</td><td>adequate</td><td>funny</td></tr>\n",
              "\t<tr><th scope=row>6</th><td>Low     </td><td>5%</td><td>300</td><td>adequate</td><td>funny</td></tr>\n",
              "</tbody>\n",
              "</table>\n"
            ],
            "text/markdown": "\nA data.frame: 6 × 5\n\n| <!--/--> | noise &lt;fct&gt; | reliability &lt;fct&gt; | price &lt;dbl&gt; | strength &lt;fct&gt; | funny &lt;fct&gt; |\n|---|---|---|---|---|---|\n| 1 | Very low | 1% | 300 | adequate | funny |\n| 2 | Low      | 1% | 300 | adequate | funny |\n| 3 | Medium   | 1% | 300 | adequate | funny |\n| 4 | High     | 1% | 300 | adequate | funny |\n| 5 | Very low | 5% | 300 | adequate | funny |\n| 6 | Low      | 5% | 300 | adequate | funny |\n\n",
            "text/latex": "A data.frame: 6 × 5\n\\begin{tabular}{r|lllll}\n  & noise & reliability & price & strength & funny\\\\\n  & <fct> & <fct> & <dbl> & <fct> & <fct>\\\\\n\\hline\n\t1 & Very low & 1\\% & 300 & adequate & funny\\\\\n\t2 & Low      & 1\\% & 300 & adequate & funny\\\\\n\t3 & Medium   & 1\\% & 300 & adequate & funny\\\\\n\t4 & High     & 1\\% & 300 & adequate & funny\\\\\n\t5 & Very low & 5\\% & 300 & adequate & funny\\\\\n\t6 & Low      & 5\\% & 300 & adequate & funny\\\\\n\\end{tabular}\n",
            "text/plain": [
              "  noise    reliability price strength funny\n",
              "1 Very low 1%          300   adequate funny\n",
              "2 Low      1%          300   adequate funny\n",
              "3 Medium   1%          300   adequate funny\n",
              "4 High     1%          300   adequate funny\n",
              "5 Very low 5%          300   adequate funny\n",
              "6 Low      5%          300   adequate funny"
            ]
          },
          "metadata": {}
        },
        {
          "output_type": "display_data",
          "data": {
            "text/html": [
              "<table class=\"dataframe\">\n",
              "<caption>A data.frame: 14 × 5</caption>\n",
              "<thead>\n",
              "\t<tr><th></th><th scope=col>noise</th><th scope=col>reliability</th><th scope=col>price</th><th scope=col>strength</th><th scope=col>funny</th></tr>\n",
              "\t<tr><th></th><th scope=col>&lt;fct&gt;</th><th scope=col>&lt;fct&gt;</th><th scope=col>&lt;dbl&gt;</th><th scope=col>&lt;fct&gt;</th><th scope=col>&lt;fct&gt;</th></tr>\n",
              "</thead>\n",
              "<tbody>\n",
              "\t<tr><th scope=row>1</th><td>Very low</td><td>1% </td><td>300</td><td>adequate</td><td>funny  </td></tr>\n",
              "\t<tr><th scope=row>10</th><td>Low     </td><td>15%</td><td>300</td><td>adequate</td><td>funny  </td></tr>\n",
              "\t<tr><th scope=row>44</th><td>High    </td><td>5% </td><td>700</td><td>adequate</td><td>funny  </td></tr>\n",
              "\t<tr><th scope=row>55</th><td>Medium  </td><td>5% </td><td>300</td><td>strong  </td><td>funny  </td></tr>\n",
              "\t<tr><th scope=row>88</th><td>High    </td><td>1% </td><td>700</td><td>strong  </td><td>funny  </td></tr>\n",
              "\t<tr><th scope=row>90</th><td>Low     </td><td>5% </td><td>700</td><td>strong  </td><td>funny  </td></tr>\n",
              "\t<tr><th scope=row>95</th><td>Medium  </td><td>15%</td><td>700</td><td>strong  </td><td>funny  </td></tr>\n",
              "\t<tr><th scope=row>99</th><td>Medium  </td><td>1% </td><td>300</td><td>adequate</td><td>serious</td></tr>\n",
              "\t<tr><th scope=row>104</th><td>High    </td><td>5% </td><td>300</td><td>adequate</td><td>serious</td></tr>\n",
              "\t<tr><th scope=row>139</th><td>Medium  </td><td>5% </td><td>700</td><td>adequate</td><td>serious</td></tr>\n",
              "\t<tr><th scope=row>141</th><td>Very low</td><td>15%</td><td>700</td><td>adequate</td><td>serious</td></tr>\n",
              "\t<tr><th scope=row>149</th><td>Very low</td><td>5% </td><td>300</td><td>strong  </td><td>serious</td></tr>\n",
              "\t<tr><th scope=row>156</th><td>High    </td><td>15%</td><td>300</td><td>strong  </td><td>serious</td></tr>\n",
              "\t<tr><th scope=row>182</th><td>Low     </td><td>1% </td><td>700</td><td>strong  </td><td>serious</td></tr>\n",
              "</tbody>\n",
              "</table>\n"
            ],
            "text/markdown": "\nA data.frame: 14 × 5\n\n| <!--/--> | noise &lt;fct&gt; | reliability &lt;fct&gt; | price &lt;dbl&gt; | strength &lt;fct&gt; | funny &lt;fct&gt; |\n|---|---|---|---|---|---|\n| 1 | Very low | 1%  | 300 | adequate | funny   |\n| 10 | Low      | 15% | 300 | adequate | funny   |\n| 44 | High     | 5%  | 700 | adequate | funny   |\n| 55 | Medium   | 5%  | 300 | strong   | funny   |\n| 88 | High     | 1%  | 700 | strong   | funny   |\n| 90 | Low      | 5%  | 700 | strong   | funny   |\n| 95 | Medium   | 15% | 700 | strong   | funny   |\n| 99 | Medium   | 1%  | 300 | adequate | serious |\n| 104 | High     | 5%  | 300 | adequate | serious |\n| 139 | Medium   | 5%  | 700 | adequate | serious |\n| 141 | Very low | 15% | 700 | adequate | serious |\n| 149 | Very low | 5%  | 300 | strong   | serious |\n| 156 | High     | 15% | 300 | strong   | serious |\n| 182 | Low      | 1%  | 700 | strong   | serious |\n\n",
            "text/latex": "A data.frame: 14 × 5\n\\begin{tabular}{r|lllll}\n  & noise & reliability & price & strength & funny\\\\\n  & <fct> & <fct> & <dbl> & <fct> & <fct>\\\\\n\\hline\n\t1 & Very low & 1\\%  & 300 & adequate & funny  \\\\\n\t10 & Low      & 15\\% & 300 & adequate & funny  \\\\\n\t44 & High     & 5\\%  & 700 & adequate & funny  \\\\\n\t55 & Medium   & 5\\%  & 300 & strong   & funny  \\\\\n\t88 & High     & 1\\%  & 700 & strong   & funny  \\\\\n\t90 & Low      & 5\\%  & 700 & strong   & funny  \\\\\n\t95 & Medium   & 15\\% & 700 & strong   & funny  \\\\\n\t99 & Medium   & 1\\%  & 300 & adequate & serious\\\\\n\t104 & High     & 5\\%  & 300 & adequate & serious\\\\\n\t139 & Medium   & 5\\%  & 700 & adequate & serious\\\\\n\t141 & Very low & 15\\% & 700 & adequate & serious\\\\\n\t149 & Very low & 5\\%  & 300 & strong   & serious\\\\\n\t156 & High     & 15\\% & 300 & strong   & serious\\\\\n\t182 & Low      & 1\\%  & 700 & strong   & serious\\\\\n\\end{tabular}\n",
            "text/plain": [
              "    noise    reliability price strength funny  \n",
              "1   Very low 1%          300   adequate funny  \n",
              "10  Low      15%         300   adequate funny  \n",
              "44  High     5%          700   adequate funny  \n",
              "55  Medium   5%          300   strong   funny  \n",
              "88  High     1%          700   strong   funny  \n",
              "90  Low      5%          700   strong   funny  \n",
              "95  Medium   15%         700   strong   funny  \n",
              "99  Medium   1%          300   adequate serious\n",
              "104 High     5%          300   adequate serious\n",
              "139 Medium   5%          700   adequate serious\n",
              "141 Very low 15%         700   adequate serious\n",
              "149 Very low 5%          300   strong   serious\n",
              "156 High     15%         300   strong   serious\n",
              "182 Low      1%          700   strong   serious"
            ]
          },
          "metadata": {}
        },
        {
          "output_type": "display_data",
          "data": {
            "text/html": [
              "'14 products are selected'"
            ],
            "text/markdown": "'14 products are selected'",
            "text/latex": "'14 products are selected'",
            "text/plain": [
              "[1] \"14 products are selected\""
            ]
          },
          "metadata": {}
        }
      ]
    },
    {
      "cell_type": "code",
      "source": [
        "# how many attributes?\n",
        "nofAttrib = 5\n",
        "# Define levels and numeric values for each attribute\n",
        "price_levels <- c(\"10K\", \"15K\", \"20K\")\n",
        "power_levels <- c(\"AdPow\", \"High\")\n",
        "noise_levels <- c(\"Low\", \"Ave\", \"High\")\n",
        "weight_levels <- c(\"3kg\", \"4.5kg\", \"6kg\")\n",
        "batteryCap_levels <- c(\"30min\", \"45min\", \"60min\")\n",
        "\n",
        "# Create set of profiles\n",
        "profiles <- expand.grid(price = price_levels,\n",
        "                        power = power_levels,\n",
        "                        noise = noise_levels,\n",
        "                        weight = weight_levels,\n",
        "                        batteryCap = batteryCap_levels)\n",
        "\n",
        "paste0(\"A total of \", nrow(profiles), \" combinations exist\")\n",
        "\n",
        "# Generate 1/4 fractional design\n",
        "head(profiles)\n",
        "selectedProfiles = row.names(caFactorialDesign(data=profiles[,1:nofAttrib],type=\"fractional\"))\n",
        "selectedProfiles = as.numeric(selectedProfiles)\n",
        "profiles[selectedProfiles,]\n",
        "paste0(nrow(profiles[selectedProfiles,]), \" products are selected\")\n"
      ],
      "metadata": {
        "colab": {
          "base_uri": "https://localhost:8080/",
          "height": 872
        },
        "id": "lfelGM7YZdQT",
        "outputId": "c4850560-f340-4477-9432-87d28f8e6947"
      },
      "execution_count": null,
      "outputs": [
        {
          "output_type": "display_data",
          "data": {
            "text/html": [
              "'A total of 162 combinations exist'"
            ],
            "text/markdown": "'A total of 162 combinations exist'",
            "text/latex": "'A total of 162 combinations exist'",
            "text/plain": [
              "[1] \"A total of 162 combinations exist\""
            ]
          },
          "metadata": {}
        },
        {
          "output_type": "display_data",
          "data": {
            "text/html": [
              "<table class=\"dataframe\">\n",
              "<caption>A data.frame: 6 × 5</caption>\n",
              "<thead>\n",
              "\t<tr><th></th><th scope=col>price</th><th scope=col>power</th><th scope=col>noise</th><th scope=col>weight</th><th scope=col>batteryCap</th></tr>\n",
              "\t<tr><th></th><th scope=col>&lt;fct&gt;</th><th scope=col>&lt;fct&gt;</th><th scope=col>&lt;fct&gt;</th><th scope=col>&lt;fct&gt;</th><th scope=col>&lt;fct&gt;</th></tr>\n",
              "</thead>\n",
              "<tbody>\n",
              "\t<tr><th scope=row>1</th><td>10K</td><td>AdPow</td><td>Low</td><td>3kg</td><td>30min</td></tr>\n",
              "\t<tr><th scope=row>2</th><td>15K</td><td>AdPow</td><td>Low</td><td>3kg</td><td>30min</td></tr>\n",
              "\t<tr><th scope=row>3</th><td>20K</td><td>AdPow</td><td>Low</td><td>3kg</td><td>30min</td></tr>\n",
              "\t<tr><th scope=row>4</th><td>10K</td><td>High </td><td>Low</td><td>3kg</td><td>30min</td></tr>\n",
              "\t<tr><th scope=row>5</th><td>15K</td><td>High </td><td>Low</td><td>3kg</td><td>30min</td></tr>\n",
              "\t<tr><th scope=row>6</th><td>20K</td><td>High </td><td>Low</td><td>3kg</td><td>30min</td></tr>\n",
              "</tbody>\n",
              "</table>\n"
            ],
            "text/markdown": "\nA data.frame: 6 × 5\n\n| <!--/--> | price &lt;fct&gt; | power &lt;fct&gt; | noise &lt;fct&gt; | weight &lt;fct&gt; | batteryCap &lt;fct&gt; |\n|---|---|---|---|---|---|\n| 1 | 10K | AdPow | Low | 3kg | 30min |\n| 2 | 15K | AdPow | Low | 3kg | 30min |\n| 3 | 20K | AdPow | Low | 3kg | 30min |\n| 4 | 10K | High  | Low | 3kg | 30min |\n| 5 | 15K | High  | Low | 3kg | 30min |\n| 6 | 20K | High  | Low | 3kg | 30min |\n\n",
            "text/latex": "A data.frame: 6 × 5\n\\begin{tabular}{r|lllll}\n  & price & power & noise & weight & batteryCap\\\\\n  & <fct> & <fct> & <fct> & <fct> & <fct>\\\\\n\\hline\n\t1 & 10K & AdPow & Low & 3kg & 30min\\\\\n\t2 & 15K & AdPow & Low & 3kg & 30min\\\\\n\t3 & 20K & AdPow & Low & 3kg & 30min\\\\\n\t4 & 10K & High  & Low & 3kg & 30min\\\\\n\t5 & 15K & High  & Low & 3kg & 30min\\\\\n\t6 & 20K & High  & Low & 3kg & 30min\\\\\n\\end{tabular}\n",
            "text/plain": [
              "  price power noise weight batteryCap\n",
              "1 10K   AdPow Low   3kg    30min     \n",
              "2 15K   AdPow Low   3kg    30min     \n",
              "3 20K   AdPow Low   3kg    30min     \n",
              "4 10K   High  Low   3kg    30min     \n",
              "5 15K   High  Low   3kg    30min     \n",
              "6 20K   High  Low   3kg    30min     "
            ]
          },
          "metadata": {}
        },
        {
          "output_type": "display_data",
          "data": {
            "text/html": [
              "<table class=\"dataframe\">\n",
              "<caption>A data.frame: 15 × 5</caption>\n",
              "<thead>\n",
              "\t<tr><th></th><th scope=col>price</th><th scope=col>power</th><th scope=col>noise</th><th scope=col>weight</th><th scope=col>batteryCap</th></tr>\n",
              "\t<tr><th></th><th scope=col>&lt;fct&gt;</th><th scope=col>&lt;fct&gt;</th><th scope=col>&lt;fct&gt;</th><th scope=col>&lt;fct&gt;</th><th scope=col>&lt;fct&gt;</th></tr>\n",
              "</thead>\n",
              "<tbody>\n",
              "\t<tr><th scope=row>2</th><td>15K</td><td>AdPow</td><td>Low </td><td>3kg  </td><td>30min</td></tr>\n",
              "\t<tr><th scope=row>7</th><td>10K</td><td>AdPow</td><td>Ave </td><td>3kg  </td><td>30min</td></tr>\n",
              "\t<tr><th scope=row>27</th><td>20K</td><td>AdPow</td><td>Ave </td><td>4.5kg</td><td>30min</td></tr>\n",
              "\t<tr><th scope=row>35</th><td>15K</td><td>High </td><td>High</td><td>4.5kg</td><td>30min</td></tr>\n",
              "\t<tr><th scope=row>42</th><td>20K</td><td>High </td><td>Low </td><td>6kg  </td><td>30min</td></tr>\n",
              "\t<tr><th scope=row>52</th><td>10K</td><td>High </td><td>High</td><td>6kg  </td><td>30min</td></tr>\n",
              "\t<tr><th scope=row>58</th><td>10K</td><td>High </td><td>Low </td><td>3kg  </td><td>45min</td></tr>\n",
              "\t<tr><th scope=row>83</th><td>15K</td><td>High </td><td>Ave </td><td>4.5kg</td><td>45min</td></tr>\n",
              "\t<tr><th scope=row>87</th><td>20K</td><td>AdPow</td><td>High</td><td>4.5kg</td><td>45min</td></tr>\n",
              "\t<tr><th scope=row>99</th><td>20K</td><td>AdPow</td><td>Ave </td><td>6kg  </td><td>45min</td></tr>\n",
              "\t<tr><th scope=row>104</th><td>15K</td><td>AdPow</td><td>High</td><td>6kg  </td><td>45min</td></tr>\n",
              "\t<tr><th scope=row>126</th><td>20K</td><td>High </td><td>High</td><td>3kg  </td><td>60min</td></tr>\n",
              "\t<tr><th scope=row>127</th><td>10K</td><td>AdPow</td><td>Low </td><td>4.5kg</td><td>60min</td></tr>\n",
              "\t<tr><th scope=row>146</th><td>15K</td><td>AdPow</td><td>Low </td><td>6kg  </td><td>60min</td></tr>\n",
              "\t<tr><th scope=row>155</th><td>15K</td><td>High </td><td>Ave </td><td>6kg  </td><td>60min</td></tr>\n",
              "</tbody>\n",
              "</table>\n"
            ],
            "text/markdown": "\nA data.frame: 15 × 5\n\n| <!--/--> | price &lt;fct&gt; | power &lt;fct&gt; | noise &lt;fct&gt; | weight &lt;fct&gt; | batteryCap &lt;fct&gt; |\n|---|---|---|---|---|---|\n| 2 | 15K | AdPow | Low  | 3kg   | 30min |\n| 7 | 10K | AdPow | Ave  | 3kg   | 30min |\n| 27 | 20K | AdPow | Ave  | 4.5kg | 30min |\n| 35 | 15K | High  | High | 4.5kg | 30min |\n| 42 | 20K | High  | Low  | 6kg   | 30min |\n| 52 | 10K | High  | High | 6kg   | 30min |\n| 58 | 10K | High  | Low  | 3kg   | 45min |\n| 83 | 15K | High  | Ave  | 4.5kg | 45min |\n| 87 | 20K | AdPow | High | 4.5kg | 45min |\n| 99 | 20K | AdPow | Ave  | 6kg   | 45min |\n| 104 | 15K | AdPow | High | 6kg   | 45min |\n| 126 | 20K | High  | High | 3kg   | 60min |\n| 127 | 10K | AdPow | Low  | 4.5kg | 60min |\n| 146 | 15K | AdPow | Low  | 6kg   | 60min |\n| 155 | 15K | High  | Ave  | 6kg   | 60min |\n\n",
            "text/latex": "A data.frame: 15 × 5\n\\begin{tabular}{r|lllll}\n  & price & power & noise & weight & batteryCap\\\\\n  & <fct> & <fct> & <fct> & <fct> & <fct>\\\\\n\\hline\n\t2 & 15K & AdPow & Low  & 3kg   & 30min\\\\\n\t7 & 10K & AdPow & Ave  & 3kg   & 30min\\\\\n\t27 & 20K & AdPow & Ave  & 4.5kg & 30min\\\\\n\t35 & 15K & High  & High & 4.5kg & 30min\\\\\n\t42 & 20K & High  & Low  & 6kg   & 30min\\\\\n\t52 & 10K & High  & High & 6kg   & 30min\\\\\n\t58 & 10K & High  & Low  & 3kg   & 45min\\\\\n\t83 & 15K & High  & Ave  & 4.5kg & 45min\\\\\n\t87 & 20K & AdPow & High & 4.5kg & 45min\\\\\n\t99 & 20K & AdPow & Ave  & 6kg   & 45min\\\\\n\t104 & 15K & AdPow & High & 6kg   & 45min\\\\\n\t126 & 20K & High  & High & 3kg   & 60min\\\\\n\t127 & 10K & AdPow & Low  & 4.5kg & 60min\\\\\n\t146 & 15K & AdPow & Low  & 6kg   & 60min\\\\\n\t155 & 15K & High  & Ave  & 6kg   & 60min\\\\\n\\end{tabular}\n",
            "text/plain": [
              "    price power noise weight batteryCap\n",
              "2   15K   AdPow Low   3kg    30min     \n",
              "7   10K   AdPow Ave   3kg    30min     \n",
              "27  20K   AdPow Ave   4.5kg  30min     \n",
              "35  15K   High  High  4.5kg  30min     \n",
              "42  20K   High  Low   6kg    30min     \n",
              "52  10K   High  High  6kg    30min     \n",
              "58  10K   High  Low   3kg    45min     \n",
              "83  15K   High  Ave   4.5kg  45min     \n",
              "87  20K   AdPow High  4.5kg  45min     \n",
              "99  20K   AdPow Ave   6kg    45min     \n",
              "104 15K   AdPow High  6kg    45min     \n",
              "126 20K   High  High  3kg    60min     \n",
              "127 10K   AdPow Low   4.5kg  60min     \n",
              "146 15K   AdPow Low   6kg    60min     \n",
              "155 15K   High  Ave   6kg    60min     "
            ]
          },
          "metadata": {}
        },
        {
          "output_type": "display_data",
          "data": {
            "text/html": [
              "'15 products are selected'"
            ],
            "text/markdown": "'15 products are selected'",
            "text/latex": "'15 products are selected'",
            "text/plain": [
              "[1] \"15 products are selected\""
            ]
          },
          "metadata": {}
        }
      ]
    }
  ]
}