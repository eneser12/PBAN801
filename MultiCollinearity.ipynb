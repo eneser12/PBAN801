{
  "nbformat": 4,
  "nbformat_minor": 0,
  "metadata": {
    "colab": {
      "provenance": [],
      "authorship_tag": "ABX9TyOWLDhugN/1uZ+O2hRVIJ3S",
      "include_colab_link": true
    },
    "kernelspec": {
      "name": "python3",
      "display_name": "Python 3"
    },
    "language_info": {
      "name": "python"
    }
  },
  "cells": [
    {
      "cell_type": "markdown",
      "metadata": {
        "id": "view-in-github",
        "colab_type": "text"
      },
      "source": [
        "<a href=\"https://colab.research.google.com/github/eneser12/PBAN801/blob/main/MultiCollinearity.ipynb\" target=\"_parent\"><img src=\"https://colab.research.google.com/assets/colab-badge.svg\" alt=\"Open In Colab\"/></a>"
      ]
    },
    {
      "cell_type": "code",
      "execution_count": 2,
      "metadata": {
        "colab": {
          "base_uri": "https://localhost:8080/",
          "height": 206
        },
        "id": "TRJ5_38jvSD9",
        "outputId": "4929fdb6-ba47-431c-f234-f4de0dedfb75"
      },
      "outputs": [
        {
          "output_type": "execute_result",
          "data": {
            "text/plain": [
              "   House  Taxes  Bedrooms  Baths  Size    Lot   Price\n",
              "0      1   1360         3    2.0  1240  18000  145000\n",
              "1      2   1050         1    1.0   370  25000   68000\n",
              "2      3   1010         3    1.5  1130  25000  115000\n",
              "3      4    830         3    2.0  1120  17000   69000\n",
              "4      5   2150         3    2.0  1710  14000  163000"
            ],
            "text/html": [
              "\n",
              "  <div id=\"df-07faad15-715f-4142-a442-cbf6df6fb7e5\" class=\"colab-df-container\">\n",
              "    <div>\n",
              "<style scoped>\n",
              "    .dataframe tbody tr th:only-of-type {\n",
              "        vertical-align: middle;\n",
              "    }\n",
              "\n",
              "    .dataframe tbody tr th {\n",
              "        vertical-align: top;\n",
              "    }\n",
              "\n",
              "    .dataframe thead th {\n",
              "        text-align: right;\n",
              "    }\n",
              "</style>\n",
              "<table border=\"1\" class=\"dataframe\">\n",
              "  <thead>\n",
              "    <tr style=\"text-align: right;\">\n",
              "      <th></th>\n",
              "      <th>House</th>\n",
              "      <th>Taxes</th>\n",
              "      <th>Bedrooms</th>\n",
              "      <th>Baths</th>\n",
              "      <th>Size</th>\n",
              "      <th>Lot</th>\n",
              "      <th>Price</th>\n",
              "    </tr>\n",
              "  </thead>\n",
              "  <tbody>\n",
              "    <tr>\n",
              "      <th>0</th>\n",
              "      <td>1</td>\n",
              "      <td>1360</td>\n",
              "      <td>3</td>\n",
              "      <td>2.0</td>\n",
              "      <td>1240</td>\n",
              "      <td>18000</td>\n",
              "      <td>145000</td>\n",
              "    </tr>\n",
              "    <tr>\n",
              "      <th>1</th>\n",
              "      <td>2</td>\n",
              "      <td>1050</td>\n",
              "      <td>1</td>\n",
              "      <td>1.0</td>\n",
              "      <td>370</td>\n",
              "      <td>25000</td>\n",
              "      <td>68000</td>\n",
              "    </tr>\n",
              "    <tr>\n",
              "      <th>2</th>\n",
              "      <td>3</td>\n",
              "      <td>1010</td>\n",
              "      <td>3</td>\n",
              "      <td>1.5</td>\n",
              "      <td>1130</td>\n",
              "      <td>25000</td>\n",
              "      <td>115000</td>\n",
              "    </tr>\n",
              "    <tr>\n",
              "      <th>3</th>\n",
              "      <td>4</td>\n",
              "      <td>830</td>\n",
              "      <td>3</td>\n",
              "      <td>2.0</td>\n",
              "      <td>1120</td>\n",
              "      <td>17000</td>\n",
              "      <td>69000</td>\n",
              "    </tr>\n",
              "    <tr>\n",
              "      <th>4</th>\n",
              "      <td>5</td>\n",
              "      <td>2150</td>\n",
              "      <td>3</td>\n",
              "      <td>2.0</td>\n",
              "      <td>1710</td>\n",
              "      <td>14000</td>\n",
              "      <td>163000</td>\n",
              "    </tr>\n",
              "  </tbody>\n",
              "</table>\n",
              "</div>\n",
              "    <div class=\"colab-df-buttons\">\n",
              "\n",
              "  <div class=\"colab-df-container\">\n",
              "    <button class=\"colab-df-convert\" onclick=\"convertToInteractive('df-07faad15-715f-4142-a442-cbf6df6fb7e5')\"\n",
              "            title=\"Convert this dataframe to an interactive table.\"\n",
              "            style=\"display:none;\">\n",
              "\n",
              "  <svg xmlns=\"http://www.w3.org/2000/svg\" height=\"24px\" viewBox=\"0 -960 960 960\">\n",
              "    <path d=\"M120-120v-720h720v720H120Zm60-500h600v-160H180v160Zm220 220h160v-160H400v160Zm0 220h160v-160H400v160ZM180-400h160v-160H180v160Zm440 0h160v-160H620v160ZM180-180h160v-160H180v160Zm440 0h160v-160H620v160Z\"/>\n",
              "  </svg>\n",
              "    </button>\n",
              "\n",
              "  <style>\n",
              "    .colab-df-container {\n",
              "      display:flex;\n",
              "      gap: 12px;\n",
              "    }\n",
              "\n",
              "    .colab-df-convert {\n",
              "      background-color: #E8F0FE;\n",
              "      border: none;\n",
              "      border-radius: 50%;\n",
              "      cursor: pointer;\n",
              "      display: none;\n",
              "      fill: #1967D2;\n",
              "      height: 32px;\n",
              "      padding: 0 0 0 0;\n",
              "      width: 32px;\n",
              "    }\n",
              "\n",
              "    .colab-df-convert:hover {\n",
              "      background-color: #E2EBFA;\n",
              "      box-shadow: 0px 1px 2px rgba(60, 64, 67, 0.3), 0px 1px 3px 1px rgba(60, 64, 67, 0.15);\n",
              "      fill: #174EA6;\n",
              "    }\n",
              "\n",
              "    .colab-df-buttons div {\n",
              "      margin-bottom: 4px;\n",
              "    }\n",
              "\n",
              "    [theme=dark] .colab-df-convert {\n",
              "      background-color: #3B4455;\n",
              "      fill: #D2E3FC;\n",
              "    }\n",
              "\n",
              "    [theme=dark] .colab-df-convert:hover {\n",
              "      background-color: #434B5C;\n",
              "      box-shadow: 0px 1px 3px 1px rgba(0, 0, 0, 0.15);\n",
              "      filter: drop-shadow(0px 1px 2px rgba(0, 0, 0, 0.3));\n",
              "      fill: #FFFFFF;\n",
              "    }\n",
              "  </style>\n",
              "\n",
              "    <script>\n",
              "      const buttonEl =\n",
              "        document.querySelector('#df-07faad15-715f-4142-a442-cbf6df6fb7e5 button.colab-df-convert');\n",
              "      buttonEl.style.display =\n",
              "        google.colab.kernel.accessAllowed ? 'block' : 'none';\n",
              "\n",
              "      async function convertToInteractive(key) {\n",
              "        const element = document.querySelector('#df-07faad15-715f-4142-a442-cbf6df6fb7e5');\n",
              "        const dataTable =\n",
              "          await google.colab.kernel.invokeFunction('convertToInteractive',\n",
              "                                                    [key], {});\n",
              "        if (!dataTable) return;\n",
              "\n",
              "        const docLinkHtml = 'Like what you see? Visit the ' +\n",
              "          '<a target=\"_blank\" href=https://colab.research.google.com/notebooks/data_table.ipynb>data table notebook</a>'\n",
              "          + ' to learn more about interactive tables.';\n",
              "        element.innerHTML = '';\n",
              "        dataTable['output_type'] = 'display_data';\n",
              "        await google.colab.output.renderOutput(dataTable, element);\n",
              "        const docLink = document.createElement('div');\n",
              "        docLink.innerHTML = docLinkHtml;\n",
              "        element.appendChild(docLink);\n",
              "      }\n",
              "    </script>\n",
              "  </div>\n",
              "\n",
              "\n",
              "<div id=\"df-e32bdabc-50ea-463f-aa6c-c3e7691ce8ed\">\n",
              "  <button class=\"colab-df-quickchart\" onclick=\"quickchart('df-e32bdabc-50ea-463f-aa6c-c3e7691ce8ed')\"\n",
              "            title=\"Suggest charts\"\n",
              "            style=\"display:none;\">\n",
              "\n",
              "<svg xmlns=\"http://www.w3.org/2000/svg\" height=\"24px\"viewBox=\"0 0 24 24\"\n",
              "     width=\"24px\">\n",
              "    <g>\n",
              "        <path d=\"M19 3H5c-1.1 0-2 .9-2 2v14c0 1.1.9 2 2 2h14c1.1 0 2-.9 2-2V5c0-1.1-.9-2-2-2zM9 17H7v-7h2v7zm4 0h-2V7h2v10zm4 0h-2v-4h2v4z\"/>\n",
              "    </g>\n",
              "</svg>\n",
              "  </button>\n",
              "\n",
              "<style>\n",
              "  .colab-df-quickchart {\n",
              "      --bg-color: #E8F0FE;\n",
              "      --fill-color: #1967D2;\n",
              "      --hover-bg-color: #E2EBFA;\n",
              "      --hover-fill-color: #174EA6;\n",
              "      --disabled-fill-color: #AAA;\n",
              "      --disabled-bg-color: #DDD;\n",
              "  }\n",
              "\n",
              "  [theme=dark] .colab-df-quickchart {\n",
              "      --bg-color: #3B4455;\n",
              "      --fill-color: #D2E3FC;\n",
              "      --hover-bg-color: #434B5C;\n",
              "      --hover-fill-color: #FFFFFF;\n",
              "      --disabled-bg-color: #3B4455;\n",
              "      --disabled-fill-color: #666;\n",
              "  }\n",
              "\n",
              "  .colab-df-quickchart {\n",
              "    background-color: var(--bg-color);\n",
              "    border: none;\n",
              "    border-radius: 50%;\n",
              "    cursor: pointer;\n",
              "    display: none;\n",
              "    fill: var(--fill-color);\n",
              "    height: 32px;\n",
              "    padding: 0;\n",
              "    width: 32px;\n",
              "  }\n",
              "\n",
              "  .colab-df-quickchart:hover {\n",
              "    background-color: var(--hover-bg-color);\n",
              "    box-shadow: 0 1px 2px rgba(60, 64, 67, 0.3), 0 1px 3px 1px rgba(60, 64, 67, 0.15);\n",
              "    fill: var(--button-hover-fill-color);\n",
              "  }\n",
              "\n",
              "  .colab-df-quickchart-complete:disabled,\n",
              "  .colab-df-quickchart-complete:disabled:hover {\n",
              "    background-color: var(--disabled-bg-color);\n",
              "    fill: var(--disabled-fill-color);\n",
              "    box-shadow: none;\n",
              "  }\n",
              "\n",
              "  .colab-df-spinner {\n",
              "    border: 2px solid var(--fill-color);\n",
              "    border-color: transparent;\n",
              "    border-bottom-color: var(--fill-color);\n",
              "    animation:\n",
              "      spin 1s steps(1) infinite;\n",
              "  }\n",
              "\n",
              "  @keyframes spin {\n",
              "    0% {\n",
              "      border-color: transparent;\n",
              "      border-bottom-color: var(--fill-color);\n",
              "      border-left-color: var(--fill-color);\n",
              "    }\n",
              "    20% {\n",
              "      border-color: transparent;\n",
              "      border-left-color: var(--fill-color);\n",
              "      border-top-color: var(--fill-color);\n",
              "    }\n",
              "    30% {\n",
              "      border-color: transparent;\n",
              "      border-left-color: var(--fill-color);\n",
              "      border-top-color: var(--fill-color);\n",
              "      border-right-color: var(--fill-color);\n",
              "    }\n",
              "    40% {\n",
              "      border-color: transparent;\n",
              "      border-right-color: var(--fill-color);\n",
              "      border-top-color: var(--fill-color);\n",
              "    }\n",
              "    60% {\n",
              "      border-color: transparent;\n",
              "      border-right-color: var(--fill-color);\n",
              "    }\n",
              "    80% {\n",
              "      border-color: transparent;\n",
              "      border-right-color: var(--fill-color);\n",
              "      border-bottom-color: var(--fill-color);\n",
              "    }\n",
              "    90% {\n",
              "      border-color: transparent;\n",
              "      border-bottom-color: var(--fill-color);\n",
              "    }\n",
              "  }\n",
              "</style>\n",
              "\n",
              "  <script>\n",
              "    async function quickchart(key) {\n",
              "      const quickchartButtonEl =\n",
              "        document.querySelector('#' + key + ' button');\n",
              "      quickchartButtonEl.disabled = true;  // To prevent multiple clicks.\n",
              "      quickchartButtonEl.classList.add('colab-df-spinner');\n",
              "      try {\n",
              "        const charts = await google.colab.kernel.invokeFunction(\n",
              "            'suggestCharts', [key], {});\n",
              "      } catch (error) {\n",
              "        console.error('Error during call to suggestCharts:', error);\n",
              "      }\n",
              "      quickchartButtonEl.classList.remove('colab-df-spinner');\n",
              "      quickchartButtonEl.classList.add('colab-df-quickchart-complete');\n",
              "    }\n",
              "    (() => {\n",
              "      let quickchartButtonEl =\n",
              "        document.querySelector('#df-e32bdabc-50ea-463f-aa6c-c3e7691ce8ed button');\n",
              "      quickchartButtonEl.style.display =\n",
              "        google.colab.kernel.accessAllowed ? 'block' : 'none';\n",
              "    })();\n",
              "  </script>\n",
              "</div>\n",
              "\n",
              "    </div>\n",
              "  </div>\n"
            ],
            "application/vnd.google.colaboratory.intrinsic+json": {
              "type": "dataframe",
              "variable_name": "df",
              "summary": "{\n  \"name\": \"df\",\n  \"rows\": 100,\n  \"fields\": [\n    {\n      \"column\": \"House\",\n      \"properties\": {\n        \"dtype\": \"number\",\n        \"std\": 29,\n        \"min\": 1,\n        \"max\": 100,\n        \"num_unique_values\": 100,\n        \"samples\": [\n          84,\n          54,\n          71\n        ],\n        \"semantic_type\": \"\",\n        \"description\": \"\"\n      }\n    },\n    {\n      \"column\": \"Taxes\",\n      \"properties\": {\n        \"dtype\": \"number\",\n        \"std\": 1009,\n        \"min\": 20,\n        \"max\": 4900,\n        \"num_unique_values\": 88,\n        \"samples\": [\n          3690,\n          1360,\n          3100\n        ],\n        \"semantic_type\": \"\",\n        \"description\": \"\"\n      }\n    },\n    {\n      \"column\": \"Bedrooms\",\n      \"properties\": {\n        \"dtype\": \"number\",\n        \"std\": 0,\n        \"min\": 1,\n        \"max\": 5,\n        \"num_unique_values\": 5,\n        \"samples\": [\n          1,\n          5,\n          2\n        ],\n        \"semantic_type\": \"\",\n        \"description\": \"\"\n      }\n    },\n    {\n      \"column\": \"Baths\",\n      \"properties\": {\n        \"dtype\": \"number\",\n        \"std\": 0.5153208277913436,\n        \"min\": 1.0,\n        \"max\": 3.0,\n        \"num_unique_values\": 5,\n        \"samples\": [\n          1.0,\n          3.0,\n          1.5\n        ],\n        \"semantic_type\": \"\",\n        \"description\": \"\"\n      }\n    },\n    {\n      \"column\": \"Size\",\n      \"properties\": {\n        \"dtype\": \"number\",\n        \"std\": 557,\n        \"min\": 370,\n        \"max\": 4050,\n        \"num_unique_values\": 77,\n        \"samples\": [\n          1710,\n          1360,\n          1220\n        ],\n        \"semantic_type\": \"\",\n        \"description\": \"\"\n      }\n    },\n    {\n      \"column\": \"Lot\",\n      \"properties\": {\n        \"dtype\": \"number\",\n        \"std\": 8524,\n        \"min\": 3500,\n        \"max\": 47400,\n        \"num_unique_values\": 42,\n        \"samples\": [\n          13000,\n          17500,\n          30000\n        ],\n        \"semantic_type\": \"\",\n        \"description\": \"\"\n      }\n    },\n    {\n      \"column\": \"Price\",\n      \"properties\": {\n        \"dtype\": \"number\",\n        \"std\": 56356,\n        \"min\": 21000,\n        \"max\": 338000,\n        \"num_unique_values\": 83,\n        \"samples\": [\n          86500,\n          145000,\n          160000\n        ],\n        \"semantic_type\": \"\",\n        \"description\": \"\"\n      }\n    }\n  ]\n}"
            }
          },
          "metadata": {},
          "execution_count": 2
        }
      ],
      "source": [
        "import pandas as pd\n",
        "\n",
        "# Path to your file\n",
        "file_path = '/content/Housing.csv'\n",
        "\n",
        "# Read the CSV file into a dataframe\n",
        "df = pd.read_csv(file_path)\n",
        "\n",
        "# Display the first few rows of the dataframe\n",
        "df.head()\n"
      ]
    },
    {
      "cell_type": "markdown",
      "source": [
        "I want to get column names, column data types, and number of rows in df.\n",
        "\n"
      ],
      "metadata": {
        "id": "z0BrS3y4w1qm"
      }
    },
    {
      "cell_type": "code",
      "source": [
        "# Get column names\n",
        "column_names = df.columns.tolist()\n",
        "\n",
        "# Get data types of columns\n",
        "column_data_types = df.dtypes\n",
        "\n",
        "# Get number of rows\n",
        "num_rows = len(df)\n",
        "\n",
        "# Print column names\n",
        "print(\"Column Names:\")\n",
        "print(column_names)\n",
        "\n",
        "# Print data types of columns\n",
        "print(\"\\nColumn Data Types:\")\n",
        "print(column_data_types)\n",
        "\n",
        "# Print number of rows\n",
        "print(\"\\nNumber of Rows:\", num_rows)\n"
      ],
      "metadata": {
        "colab": {
          "base_uri": "https://localhost:8080/"
        },
        "id": "bgEhGGB6w13N",
        "outputId": "3666ecbb-c2bc-4663-cbb1-07b85eee4b73"
      },
      "execution_count": 3,
      "outputs": [
        {
          "output_type": "stream",
          "name": "stdout",
          "text": [
            "Column Names:\n",
            "['House', 'Taxes', 'Bedrooms', 'Baths', 'Size', 'Lot', 'Price']\n",
            "\n",
            "Column Data Types:\n",
            "House         int64\n",
            "Taxes         int64\n",
            "Bedrooms      int64\n",
            "Baths       float64\n",
            "Size          int64\n",
            "Lot           int64\n",
            "Price         int64\n",
            "dtype: object\n",
            "\n",
            "Number of Rows: 100\n"
          ]
        }
      ]
    },
    {
      "cell_type": "markdown",
      "source": [
        "drop the column \"House\"\n",
        "\n"
      ],
      "metadata": {
        "id": "lnGbVcHYxNRt"
      }
    },
    {
      "cell_type": "code",
      "source": [
        "# Drop the 'House' column\n",
        "df.drop('House', axis=1, inplace=True)\n",
        "\n",
        "# Print the modified dataframe\n",
        "print(df.head())\n"
      ],
      "metadata": {
        "colab": {
          "base_uri": "https://localhost:8080/"
        },
        "id": "V8as8lZFxNyN",
        "outputId": "8ebd9a90-fcb0-4df3-ddee-f945ee1c6549"
      },
      "execution_count": 4,
      "outputs": [
        {
          "output_type": "stream",
          "name": "stdout",
          "text": [
            "   Taxes  Bedrooms  Baths  Size    Lot   Price\n",
            "0   1360         3    2.0  1240  18000  145000\n",
            "1   1050         1    1.0   370  25000   68000\n",
            "2   1010         3    1.5  1130  25000  115000\n",
            "3    830         3    2.0  1120  17000   69000\n",
            "4   2150         3    2.0  1710  14000  163000\n"
          ]
        }
      ]
    },
    {
      "cell_type": "markdown",
      "source": [
        "compute correlations and print the correlation matrix for the dataframe df."
      ],
      "metadata": {
        "id": "q99UoSH5xgxs"
      }
    },
    {
      "cell_type": "code",
      "source": [
        "# Compute correlations\n",
        "correlation_matrix = df.corr()\n",
        "\n",
        "# Print correlation matrix\n",
        "print(\"Correlation Matrix:\")\n",
        "print(correlation_matrix)\n"
      ],
      "metadata": {
        "colab": {
          "base_uri": "https://localhost:8080/"
        },
        "id": "61fg7wenxhnI",
        "outputId": "11d0f1cd-a677-40a3-f3df-740e6af56bd4"
      },
      "execution_count": 5,
      "outputs": [
        {
          "output_type": "stream",
          "name": "stdout",
          "text": [
            "Correlation Matrix:\n",
            "             Taxes  Bedrooms     Baths      Size       Lot     Price\n",
            "Taxes     1.000000  0.398797  0.550497  0.737905  0.735543  0.823759\n",
            "Bedrooms  0.398797  1.000000  0.457783  0.573288  0.212039  0.363378\n",
            "Baths     0.550497  0.457783  1.000000  0.640846  0.333278  0.571165\n",
            "Size      0.737905  0.573288  0.640846  1.000000  0.534491  0.761262\n",
            "Lot       0.735543  0.212039  0.333278  0.534491  1.000000  0.713774\n",
            "Price     0.823759  0.363378  0.571165  0.761262  0.713774  1.000000\n"
          ]
        }
      ]
    },
    {
      "cell_type": "code",
      "source": [
        "import seaborn as sns\n",
        "import matplotlib.pyplot as plt\n",
        "\n",
        "# Set up the matplotlib figure\n",
        "plt.figure(figsize=(10, 8))\n",
        "\n",
        "# Draw the heatmap\n",
        "sns.heatmap(correlation_matrix, annot=True, cmap='coolwarm', fmt=\".2f\")\n",
        "\n",
        "# Add title\n",
        "plt.title('Correlation Matrix')\n",
        "\n",
        "# Show the plot\n",
        "plt.show()\n"
      ],
      "metadata": {
        "colab": {
          "base_uri": "https://localhost:8080/",
          "height": 699
        },
        "id": "E4IqOzU2xqGK",
        "outputId": "2bf2df49-f249-4eb8-d47e-da112c5e8738"
      },
      "execution_count": 6,
      "outputs": [
        {
          "output_type": "display_data",
          "data": {
            "text/plain": [
              "<Figure size 1000x800 with 2 Axes>"
            ],
            "image/png": "[encoded data removed]"
          },
          "metadata": {}
        }
      ]
    },
    {
      "cell_type": "markdown",
      "source": [
        "Create a linear regression. The dependent variable is \"Price\". All other variables will be independent variable. Give me the summary of the regression at the end.\n",
        "\n"
      ],
      "metadata": {
        "id": "s5KlaXxtyDIY"
      }
    },
    {
      "cell_type": "code",
      "source": [
        "import statsmodels.api as sm\n",
        "\n",
        "# Define independent variables (features)\n",
        "X = df.drop(columns=['Price'])\n",
        "\n",
        "# Add a constant to the independent variables matrix (for intercept)\n",
        "X = sm.add_constant(X)\n",
        "\n",
        "# Define dependent variable\n",
        "y = df['Price']\n",
        "\n",
        "# Fit the linear regression model\n",
        "model = sm.OLS(y, X).fit()\n",
        "\n",
        "# Print the summary of the regression\n",
        "print(model.summary())\n"
      ],
      "metadata": {
        "colab": {
          "base_uri": "https://localhost:8080/"
        },
        "id": "fPgzvbluyDrT",
        "outputId": "5d1b2eb6-75f7-4ce3-a9d1-2f7e6cba55d7"
      },
      "execution_count": 7,
      "outputs": [
        {
          "output_type": "stream",
          "name": "stdout",
          "text": [
            "                            OLS Regression Results                            \n",
            "==============================================================================\n",
            "Dep. Variable:                  Price   R-squared:                       0.766\n",
            "Model:                            OLS   Adj. R-squared:                  0.753\n",
            "Method:                 Least Squares   F-statistic:                     61.52\n",
            "Date:                Tue, 20 Feb 2024   Prob (F-statistic):           3.89e-28\n",
            "Time:                        18:30:12   Log-Likelihood:                -1162.7\n",
            "No. Observations:                 100   AIC:                             2337.\n",
            "Df Residuals:                      94   BIC:                             2353.\n",
            "Df Model:                           5                                         \n",
            "Covariance Type:            nonrobust                                         \n",
            "==============================================================================\n",
            "                 coef    std err          t      P>|t|      [0.025      0.975]\n",
            "------------------------------------------------------------------------------\n",
            "const       6633.7997   1.58e+04      0.419      0.676   -2.48e+04    3.81e+04\n",
            "Taxes         20.6436      5.256      3.928      0.000      10.208      31.079\n",
            "Bedrooms   -6469.6862   5313.155     -1.218      0.226    -1.7e+04    4079.708\n",
            "Baths       1.182e+04   7320.944      1.615      0.110   -2711.419    2.64e+04\n",
            "Size          33.5714      8.890      3.776      0.000      15.919      51.224\n",
            "Lot            1.6162      0.495      3.266      0.002       0.634       2.599\n",
            "==============================================================================\n",
            "Omnibus:                        7.313   Durbin-Watson:                   1.995\n",
            "Prob(Omnibus):                  0.026   Jarque-Bera (JB):                8.740\n",
            "Skew:                          -0.387   Prob(JB):                       0.0127\n",
            "Kurtosis:                       4.224   Cond. No.                     1.26e+05\n",
            "==============================================================================\n",
            "\n",
            "Notes:\n",
            "[1] Standard Errors assume that the covariance matrix of the errors is correctly specified.\n",
            "[2] The condition number is large, 1.26e+05. This might indicate that there are\n",
            "strong multicollinearity or other numerical problems.\n"
          ]
        }
      ]
    },
    {
      "cell_type": "markdown",
      "source": [
        "I want to standardize whole df dataframe using Mu=0 and std=1, exceptfor \"Price\" attribute. Rename the new dataframe as dfstd.\n",
        "\n"
      ],
      "metadata": {
        "id": "TNa6ayLSyzJU"
      }
    },
    {
      "cell_type": "code",
      "source": [
        "from sklearn.preprocessing import StandardScaler\n",
        "\n",
        "# Create a copy of the dataframe\n",
        "dfstd = df.copy()\n",
        "\n",
        "# Exclude the \"Price\" attribute\n",
        "features_to_standardize = dfstd.drop(columns=['Price'])\n",
        "\n",
        "# Standardize the features\n",
        "scaler = StandardScaler()\n",
        "scaled_features = scaler.fit_transform(features_to_standardize)\n",
        "\n",
        "# Replace the original features with the standardized features\n",
        "dfstd[features_to_standardize.columns] = scaled_features\n",
        "\n",
        "# Print the first few rows of the standardized dataframe\n",
        "print(dfstd.head())\n"
      ],
      "metadata": {
        "colab": {
          "base_uri": "https://localhost:8080/"
        },
        "id": "ZU-6s8ARy0p5",
        "outputId": "f45a039c-05ee-4634-e827-d8f90ba6d00a"
      },
      "execution_count": 8,
      "outputs": [
        {
          "output_type": "stream",
          "name": "stdout",
          "text": [
            "      Taxes  Bedrooms     Baths      Size       Lot   Price\n",
            "0 -0.306904  0.015252  0.214535 -0.516485 -0.167068  145000\n",
            "1 -0.615601 -3.035074 -1.735780 -2.085963  0.658250   68000\n",
            "2 -0.655433  0.015252 -0.760623 -0.714925  0.658250  115000\n",
            "3 -0.834676  0.015252  0.214535 -0.732965 -0.284970   69000\n",
            "4  0.479775  0.015252  0.214535  0.331395 -0.638678  163000\n"
          ]
        }
      ]
    },
    {
      "cell_type": "markdown",
      "source": [
        "now recreate the same regression on dfstd."
      ],
      "metadata": {
        "id": "m2Vj3nbQy9UT"
      }
    },
    {
      "cell_type": "code",
      "source": [
        "# Define independent variables (features) from the standardized dataframe\n",
        "X_std = dfstd.drop(columns=['Price'])\n",
        "\n",
        "# Add a constant to the independent variables matrix (for intercept)\n",
        "X_std = sm.add_constant(X_std)\n",
        "\n",
        "# Fit the linear regression model on the standardized data\n",
        "model_std = sm.OLS(y, X_std).fit()\n",
        "\n",
        "# Print the summary of the regression on standardized data\n",
        "print(model_std.summary())\n"
      ],
      "metadata": {
        "colab": {
          "base_uri": "https://localhost:8080/"
        },
        "id": "uG8dO_55y90p",
        "outputId": "9c545752-42e4-42a4-baef-54780c297d3a"
      },
      "execution_count": 9,
      "outputs": [
        {
          "output_type": "stream",
          "name": "stdout",
          "text": [
            "                            OLS Regression Results                            \n",
            "==============================================================================\n",
            "Dep. Variable:                  Price   R-squared:                       0.766\n",
            "Model:                            OLS   Adj. R-squared:                  0.753\n",
            "Method:                 Least Squares   F-statistic:                     61.52\n",
            "Date:                Tue, 20 Feb 2024   Prob (F-statistic):           3.89e-28\n",
            "Time:                        18:34:08   Log-Likelihood:                -1162.7\n",
            "No. Observations:                 100   AIC:                             2337.\n",
            "Df Residuals:                      94   BIC:                             2353.\n",
            "Df Model:                           5                                         \n",
            "Covariance Type:            nonrobust                                         \n",
            "==============================================================================\n",
            "                 coef    std err          t      P>|t|      [0.025      0.975]\n",
            "------------------------------------------------------------------------------\n",
            "const       1.267e+05   2798.063     45.281      0.000    1.21e+05    1.32e+05\n",
            "Taxes       2.073e+04   5277.982      3.928      0.000    1.03e+04    3.12e+04\n",
            "Bedrooms   -4241.9636   3483.664     -1.218      0.226   -1.12e+04    2674.932\n",
            "Baths       6062.8614   3753.725      1.615      0.110   -1390.247    1.35e+04\n",
            "Size        1.861e+04   4928.190      3.776      0.000    8824.418    2.84e+04\n",
            "Lot         1.371e+04   4197.031      3.266      0.002    5374.954     2.2e+04\n",
            "==============================================================================\n",
            "Omnibus:                        7.313   Durbin-Watson:                   1.995\n",
            "Prob(Omnibus):                  0.026   Jarque-Bera (JB):                8.740\n",
            "Skew:                          -0.387   Prob(JB):                       0.0127\n",
            "Kurtosis:                       4.224   Cond. No.                         4.05\n",
            "==============================================================================\n",
            "\n",
            "Notes:\n",
            "[1] Standard Errors assume that the covariance matrix of the errors is correctly specified.\n"
          ]
        }
      ]
    },
    {
      "cell_type": "markdown",
      "source": [
        "Now I want to understand the MULTICOLLINEARITY issue. To this end, I will do the following:\n",
        "\n",
        "dfstdfor this regression, also compute VIF factors."
      ],
      "metadata": {
        "id": "ifwR0gWDzYV6"
      }
    },
    {
      "cell_type": "code",
      "source": [
        "from statsmodels.stats.outliers_influence import variance_inflation_factor\n",
        "\n",
        "# Calculate VIF for each feature\n",
        "vif_data = pd.DataFrame()\n",
        "vif_data[\"Feature\"] = X_std.columns\n",
        "vif_data[\"VIF\"] = [variance_inflation_factor(X_std.values, i) for i in range(len(X_std.columns))]\n",
        "\n",
        "# Print the VIF dataframe\n",
        "print(\"Variance Inflation Factors (VIF):\")\n",
        "print(vif_data)\n"
      ],
      "metadata": {
        "colab": {
          "base_uri": "https://localhost:8080/"
        },
        "id": "RQXUX76ozcz3",
        "outputId": "922e13e7-ef33-4cf3-d9e1-43ddeba151d2"
      },
      "execution_count": 10,
      "outputs": [
        {
          "output_type": "stream",
          "name": "stdout",
          "text": [
            "Variance Inflation Factors (VIF):\n",
            "    Feature       VIF\n",
            "0     const  1.000000\n",
            "1     Taxes  3.558122\n",
            "2  Bedrooms  1.550092\n",
            "3     Baths  1.799740\n",
            "4      Size  3.102130\n",
            "5       Lot  2.249932\n"
          ]
        }
      ]
    },
    {
      "cell_type": "markdown",
      "source": [
        "drop \"Bedroom\" attribute and rerun the regression on dfstd"
      ],
      "metadata": {
        "id": "8QBT8dEl1ewQ"
      }
    },
    {
      "cell_type": "code",
      "source": [
        "# Drop the \"Bedroom\" attribute from the standardized dataframe\n",
        "X_std.drop(columns=['Bedrooms'], inplace=True)\n",
        "\n",
        "# Fit the linear regression model on the modified standardized data\n",
        "model_std_without_bedrooms = sm.OLS(y, X_std).fit()\n",
        "\n",
        "# Print the summary of the regression on modified standardized data\n",
        "print(model_std_without_bedrooms.summary())\n"
      ],
      "metadata": {
        "colab": {
          "base_uri": "https://localhost:8080/"
        },
        "id": "RLatzFCv1gt5",
        "outputId": "3124b697-820e-4f84-eb5a-82b199085fed"
      },
      "execution_count": 11,
      "outputs": [
        {
          "output_type": "stream",
          "name": "stdout",
          "text": [
            "                            OLS Regression Results                            \n",
            "==============================================================================\n",
            "Dep. Variable:                  Price   R-squared:                       0.762\n",
            "Model:                            OLS   Adj. R-squared:                  0.752\n",
            "Method:                 Least Squares   F-statistic:                     76.15\n",
            "Date:                Tue, 20 Feb 2024   Prob (F-statistic):           8.63e-29\n",
            "Time:                        18:45:25   Log-Likelihood:                -1163.5\n",
            "No. Observations:                 100   AIC:                             2337.\n",
            "Df Residuals:                      95   BIC:                             2350.\n",
            "Df Model:                           4                                         \n",
            "Covariance Type:            nonrobust                                         \n",
            "==============================================================================\n",
            "                 coef    std err          t      P>|t|      [0.025      0.975]\n",
            "------------------------------------------------------------------------------\n",
            "const       1.267e+05   2805.163     45.166      0.000    1.21e+05    1.32e+05\n",
            "Taxes        2.06e+04   5290.340      3.895      0.000    1.01e+04    3.11e+04\n",
            "Baths       5438.5538   3727.981      1.459      0.148   -1962.425    1.28e+04\n",
            "Size        1.634e+04   4575.015      3.572      0.001    7261.207    2.54e+04\n",
            "Lot         1.432e+04   4177.297      3.428      0.001    6028.340    2.26e+04\n",
            "==============================================================================\n",
            "Omnibus:                        7.697   Durbin-Watson:                   2.041\n",
            "Prob(Omnibus):                  0.021   Jarque-Bera (JB):               10.383\n",
            "Skew:                          -0.349   Prob(JB):                      0.00556\n",
            "Kurtosis:                       4.416   Cond. No.                         3.82\n",
            "==============================================================================\n",
            "\n",
            "Notes:\n",
            "[1] Standard Errors assume that the covariance matrix of the errors is correctly specified.\n"
          ]
        }
      ]
    },
    {
      "cell_type": "markdown",
      "source": [
        "drop Baths  attribute as well then rerun."
      ],
      "metadata": {
        "id": "VnWZI3pD14yl"
      }
    },
    {
      "cell_type": "code",
      "source": [
        "# Drop the \"Bedrooms\" and \"Baths\" attributes from the standardized dataframe\n",
        "X_std.drop(columns=[ 'Baths'], inplace=True)\n",
        "\n",
        "# Fit the linear regression model on the modified standardized data\n",
        "model_std_without_bedrooms_baths = sm.OLS(y, X_std).fit()\n",
        "\n",
        "# Print the summary of the regression on modified standardized data\n",
        "print(model_std_without_bedrooms_baths.summary())\n"
      ],
      "metadata": {
        "colab": {
          "base_uri": "https://localhost:8080/"
        },
        "id": "cxb6oa0o159K",
        "outputId": "3429b9b0-6da8-4786-f369-ba1e0345a474"
      },
      "execution_count": 13,
      "outputs": [
        {
          "output_type": "stream",
          "name": "stdout",
          "text": [
            "                            OLS Regression Results                            \n",
            "==============================================================================\n",
            "Dep. Variable:                  Price   R-squared:                       0.757\n",
            "Model:                            OLS   Adj. R-squared:                  0.749\n",
            "Method:                 Least Squares   F-statistic:                     99.65\n",
            "Date:                Tue, 20 Feb 2024   Prob (F-statistic):           2.25e-29\n",
            "Time:                        18:47:09   Log-Likelihood:                -1164.6\n",
            "No. Observations:                 100   AIC:                             2337.\n",
            "Df Residuals:                      96   BIC:                             2348.\n",
            "Df Model:                           3                                         \n",
            "Covariance Type:            nonrobust                                         \n",
            "==============================================================================\n",
            "                 coef    std err          t      P>|t|      [0.025      0.975]\n",
            "------------------------------------------------------------------------------\n",
            "const       1.267e+05   2821.598     44.903      0.000    1.21e+05    1.32e+05\n",
            "Taxes       2.213e+04   5216.446      4.242      0.000    1.18e+04    3.25e+04\n",
            "Size        1.913e+04   4181.421      4.575      0.000    1.08e+04    2.74e+04\n",
            "Lot         1.352e+04   4165.535      3.246      0.002    5254.186    2.18e+04\n",
            "==============================================================================\n",
            "Omnibus:                        5.396   Durbin-Watson:                   2.113\n",
            "Prob(Omnibus):                  0.067   Jarque-Bera (JB):                6.151\n",
            "Skew:                          -0.274   Prob(JB):                       0.0462\n",
            "Kurtosis:                       4.084   Cond. No.                         3.50\n",
            "==============================================================================\n",
            "\n",
            "Notes:\n",
            "[1] Standard Errors assume that the covariance matrix of the errors is correctly specified.\n"
          ]
        }
      ]
    },
    {
      "cell_type": "code",
      "source": [
        "def forward_selection(df, target_column):\n",
        "    remaining_features = set(df.columns)\n",
        "    remaining_features.remove(target_column)\n",
        "    selected_features = []\n",
        "    best_bic = np.inf\n",
        "    best_adj_r2 = -np.inf\n",
        "    best_model = None\n",
        "\n",
        "    while remaining_features:\n",
        "        bic_values = []\n",
        "        adj_r2_values = []\n",
        "        for feature in remaining_features:\n",
        "            X = df[selected_features + [feature]]\n",
        "            X = sm.add_constant(X)\n",
        "            y = df[target_column]\n",
        "            model = sm.OLS(y, X).fit()\n",
        "            bic = model.bic\n",
        "            adj_r2 = model.rsquared_adj\n",
        "            bic_values.append(bic)\n",
        "            adj_r2_values.append(adj_r2)\n",
        "\n",
        "            if bic < best_bic:\n",
        "                best_bic = bic\n",
        "                best_feature_bic = feature\n",
        "                best_model_bic = model\n",
        "\n",
        "            if adj_r2 > best_adj_r2:\n",
        "                best_adj_r2 = adj_r2\n",
        "                best_feature_adj_r2 = feature\n",
        "                best_model_adj_r2 = model\n",
        "\n",
        "        if best_bic < best_adj_r2:\n",
        "            selected_features.append(best_feature_bic)\n",
        "            remaining_features.remove(best_feature_bic)\n",
        "            print(\"Selected Features:\", selected_features)\n",
        "            print(\"BIC:\", bic_values)\n",
        "            print()\n",
        "            best_bic = np.inf\n",
        "            best_adj_r2 = -np.inf\n",
        "        else:\n",
        "            selected_features.append(best_feature_adj_r2)\n",
        "            remaining_features.remove(best_feature_adj_r2)\n",
        "            print(\"Selected Features:\", selected_features)\n",
        "            print(\"BIC:\", bic_values)\n",
        "            print()\n",
        "            best_bic = np.inf\n",
        "            best_adj_r2 = -np.inf\n",
        "\n",
        "    return selected_features, best_model_adj_r2.bic, best_model_adj_r2.rsquared_adj\n",
        "\n",
        "# Run forward selection procedure\n",
        "selected_features, best_bic, best_adj_r2 = forward_selection(df, 'Price')\n",
        "\n",
        "print(\"Selected Features:\", selected_features)\n",
        "print(\"Best BIC:\", best_bic)\n",
        "print(\"Best Adjusted R-squared:\", best_adj_r2)\n"
      ],
      "metadata": {
        "colab": {
          "base_uri": "https://localhost:8080/"
        },
        "id": "lejcIuWt3Fu_",
        "outputId": "0a7c0ad2-b4f0-43c1-b0dd-593c8525c10b"
      },
      "execution_count": 15,
      "outputs": [
        {
          "output_type": "stream",
          "name": "stdout",
          "text": [
            "Selected Features: ['Taxes']\n",
            "BIC: [2408.6569681765745, 2366.384206243863, 2440.3980786100437, 2465.7232038753154, 2393.2487240953565]\n",
            "\n",
            "Selected Features: ['Taxes', 'Size']\n",
            "BIC: [2362.77441536649, 2364.607178277336, 2370.538649419299, 2353.465785628358]\n",
            "\n",
            "Selected Features: ['Taxes', 'Size', 'Lot']\n",
            "BIC: [2347.654975087132, 2357.1042217975523, 2356.11939787522]\n",
            "\n",
            "Selected Features: ['Taxes', 'Size', 'Lot', 'Baths']\n",
            "BIC: [2350.0446236616626, 2351.217005794441]\n",
            "\n",
            "Selected Features: ['Taxes', 'Size', 'Lot', 'Baths', 'Bedrooms']\n",
            "BIC: [2353.084734886655]\n",
            "\n",
            "Selected Features: ['Taxes', 'Size', 'Lot', 'Baths', 'Bedrooms']\n",
            "Best BIC: 2353.084734886655\n",
            "Best Adjusted R-squared: 0.7534967253107417\n"
          ]
        }
      ]
    }
  ]
}