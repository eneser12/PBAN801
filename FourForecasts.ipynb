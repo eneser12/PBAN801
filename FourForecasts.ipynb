{
  "nbformat": 4,
  "nbformat_minor": 0,
  "metadata": {
    "colab": {
      "provenance": [],
      "authorship_tag": "ABX9TyMwDGQAB9ttoGrXtIMBzcEg",
      "include_colab_link": true
    },
    "kernelspec": {
      "name": "ir",
      "display_name": "R"
    },
    "language_info": {
      "name": "R"
    }
  },
  "cells": [
    {
      "cell_type": "markdown",
      "metadata": {
        "id": "view-in-github",
        "colab_type": "text"
      },
      "source": [
        "<a href=\"https://colab.research.google.com/github/eneser12/PBAN801/blob/main/FourForecasts.ipynb\" target=\"_parent\"><img src=\"https://colab.research.google.com/assets/colab-badge.svg\" alt=\"Open In Colab\"/></a>"
      ]
    },
    {
      "cell_type": "code",
      "execution_count": 5,
      "metadata": {
        "id": "DVKmBriQpaLE",
        "outputId": "7c8c5e36-8a67-43a2-8f6e-9f05ec9aa2b3",
        "colab": {
          "base_uri": "https://localhost:8080/"
        }
      },
      "outputs": [
        {
          "output_type": "stream",
          "name": "stdout",
          "text": [
            "   Year Sales\n",
            "1  2007   290\n",
            "2  2008   970\n",
            "3  2009  1380\n",
            "4  2010  2120\n",
            "5  2011  3940\n",
            "6  2012  6180\n",
            "7  2013  7840\n",
            "8  2014 10780\n",
            "9  2015 16320\n",
            "10 2016 20140\n",
            "11 2017 31850\n",
            "12 2018 36700\n",
            "13 2019 38670\n",
            "14 2020 44320\n",
            "15 2021 46410\n",
            "16 2022 51230\n"
          ]
        }
      ],
      "source": [
        "\n",
        "df = read.csv(\"https://www.dropbox.com/scl/fi/yzyfwph5t1oupueluu6n0/EyeCell.csv?rlkey=dyxsq1nxhxu1tw4yncqj312wj&dl=1\")\n",
        "print(df)\n"
      ]
    }
  ]
}